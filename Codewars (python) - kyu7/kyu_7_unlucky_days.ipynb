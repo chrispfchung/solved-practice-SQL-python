{
 "cells": [
  {
   "cell_type": "code",
   "execution_count": null,
   "metadata": {},
   "outputs": [],
   "source": [
    "#https://www.codewars.com/kata/unlucky-days/train/python\n",
    "\n",
    "import calendar \n",
    "\n",
    "def unlucky_days(year):\n",
    "    friday13 = 0\n",
    "    for month in range(1,13):\n",
    "        if calendar.weekday(year,month,13) == 4:\n",
    "            friday13+=1\n",
    "    return friday13\n",
    "\n",
    "\n",
    "\n",
    "Examples:\n",
    "\n",
    "unluckyDays(2015) == 3\n",
    "unluckyDays(1986) == 1"
   ]
  }
 ],
 "metadata": {
  "kernelspec": {
   "display_name": "Python 3",
   "language": "python",
   "name": "python3"
  },
  "language_info": {
   "codemirror_mode": {
    "name": "ipython",
    "version": 3
   },
   "file_extension": ".py",
   "mimetype": "text/x-python",
   "name": "python",
   "nbconvert_exporter": "python",
   "pygments_lexer": "ipython3",
   "version": "3.6.7"
  }
 },
 "nbformat": 4,
 "nbformat_minor": 2
}
