{
 "cells": [
  {
   "cell_type": "code",
   "execution_count": null,
   "metadata": {},
   "outputs": [],
   "source": [
    "#https://www.codewars.com/kata/5541f58a944b85ce6d00006a/train/python\n",
    "\n",
    "def productFib(prod):\n",
    "    #first create fib list\n",
    "    Fn = [0,1]\n",
    "    for i in range(0,200):\n",
    "        n = Fn[i] + Fn[i+1]\n",
    "        Fn.append(n)\n",
    "        \n",
    "    #returning fib values if the product of two numbers equals the given prod\n",
    "    for i in range(0,199):\n",
    "        if Fn[i]*Fn[i+1] == prod:\n",
    "            return [Fn[i],Fn[i+1], True]\n",
    "        \n",
    "    #returning the two fib numbers that make up the next highest number after the given prod\n",
    "    for i in range(0,199):\n",
    "        if Fn[i]*Fn[i+1] > prod:\n",
    "            return [Fn[i], Fn[i+1], False]"
   ]
  }
 ],
 "metadata": {
  "kernelspec": {
   "display_name": "Python 3",
   "language": "python",
   "name": "python3"
  },
  "language_info": {
   "codemirror_mode": {
    "name": "ipython",
    "version": 3
   },
   "file_extension": ".py",
   "mimetype": "text/x-python",
   "name": "python",
   "nbconvert_exporter": "python",
   "pygments_lexer": "ipython3",
   "version": "3.6.7"
  }
 },
 "nbformat": 4,
 "nbformat_minor": 2
}
