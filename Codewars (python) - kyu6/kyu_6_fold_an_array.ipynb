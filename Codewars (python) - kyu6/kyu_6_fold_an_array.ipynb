{
 "cells": [
  {
   "cell_type": "code",
   "execution_count": null,
   "metadata": {},
   "outputs": [],
   "source": [
    "#https://www.codewars.com/kata/fold-an-array/train/python\n",
    "\n",
    "def fold_array(array, runs):\n",
    "    for r in range(runs):\n",
    "        for i in range(len(nums)//2):\n",
    "            print(nums[i])\n",
    "            nums[i] += nums.pop()\n",
    "            print(nums[i])\n",
    "    return nums"
   ]
  }
 ],
 "metadata": {
  "kernelspec": {
   "display_name": "Python 3",
   "language": "python",
   "name": "python3"
  },
  "language_info": {
   "codemirror_mode": {
    "name": "ipython",
    "version": 3
   },
   "file_extension": ".py",
   "mimetype": "text/x-python",
   "name": "python",
   "nbconvert_exporter": "python",
   "pygments_lexer": "ipython3",
   "version": "3.6.7"
  }
 },
 "nbformat": 4,
 "nbformat_minor": 2
}
