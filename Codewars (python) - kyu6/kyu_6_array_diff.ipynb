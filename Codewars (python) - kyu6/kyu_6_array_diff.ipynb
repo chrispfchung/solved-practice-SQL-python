{
 "cells": [
  {
   "cell_type": "code",
   "execution_count": null,
   "metadata": {},
   "outputs": [],
   "source": [
    "#https://www.codewars.com/kata/array-dot-diff/train/python\n",
    "\n",
    "def array_diff(a, b):\n",
    "    new_list = []\n",
    "    for i in range(len(a)):\n",
    "        if a[i] not in b:\n",
    "            new_list.append(a[i])\n",
    "    return new_list"
   ]
  }
 ],
 "metadata": {
  "kernelspec": {
   "display_name": "Python 3",
   "language": "python",
   "name": "python3"
  },
  "language_info": {
   "codemirror_mode": {
    "name": "ipython",
    "version": 3
   },
   "file_extension": ".py",
   "mimetype": "text/x-python",
   "name": "python",
   "nbconvert_exporter": "python",
   "pygments_lexer": "ipython3",
   "version": "3.6.7"
  }
 },
 "nbformat": 4,
 "nbformat_minor": 2
}
