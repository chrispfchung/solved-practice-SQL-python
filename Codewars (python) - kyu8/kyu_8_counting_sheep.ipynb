{
 "cells": [
  {
   "cell_type": "code",
   "execution_count": null,
   "metadata": {},
   "outputs": [],
   "source": [
    "#https://www.codewars.com/kata/counting-sheep-dot-dot-dot/train/python\n",
    "\n",
    "#Give a count of all true values from a list\n",
    "\n",
    "def count_sheeps(arrayOfSheeps):\n",
    "    return arrayOfSheeps.count(True)\n",
    "\n",
    "\n",
    "#Original\n",
    "def count_sheeps(arrayOfSheeps):\n",
    "    count = []\n",
    "    for value in arrayOfSheeps:\n",
    "        if value == True:\n",
    "            count.append(value)\n",
    "    return len(count)"
   ]
  }
 ],
 "metadata": {
  "kernelspec": {
   "display_name": "Python 3",
   "language": "python",
   "name": "python3"
  },
  "language_info": {
   "codemirror_mode": {
    "name": "ipython",
    "version": 3
   },
   "file_extension": ".py",
   "mimetype": "text/x-python",
   "name": "python",
   "nbconvert_exporter": "python",
   "pygments_lexer": "ipython3",
   "version": "3.6.7"
  }
 },
 "nbformat": 4,
 "nbformat_minor": 2
}
